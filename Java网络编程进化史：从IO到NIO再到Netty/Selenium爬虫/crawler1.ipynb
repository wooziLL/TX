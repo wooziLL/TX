{
 "cells": [
  {
   "cell_type": "markdown",
   "id": "7ae356a8",
   "metadata": {},
   "source": [
    "# 对网页进行自动化测试"
   ]
  },
  {
   "cell_type": "code",
   "execution_count": 24,
   "id": "b99a5ad4",
   "metadata": {},
   "outputs": [],
   "source": [
    "from selenium import webdriver\n",
    "\n",
    "driver = webdriver.Edge(executable_path=r'C:\\\\Users\\\\86150\\\\Downloads\\\\edgedriver_win64\\\\msedgedriver.exe')\n",
    "driver.get(\"https://www.baidu.com/\")"
   ]
  },
  {
   "cell_type": "code",
   "execution_count": 34,
   "id": "fbb1192c",
   "metadata": {},
   "outputs": [
    {
     "name": "stdout",
     "output_type": "stream",
     "text": [
      "<selenium.webdriver.remote.webelement.WebElement (session=\"eb44439bee93f55039213d4fd1743e1f\", element=\"26582b39-32e1-4ced-a5d3-4a593390e127\")>\n",
      "{'x': 135, 'y': 17}\n",
      "{'height': 38, 'width': 390}\n",
      "wd\n",
      "C#\n"
     ]
    }
   ],
   "source": [
    "p_input = driver.find_element_by_id('kw')\n",
    "print(p_input)\n",
    "print(p_input.location)\n",
    "print(p_input.size)\n",
    "p_input.send_keys('C#')\n",
    "print(p_input.get_property('name'))\n",
    "print(p_input.get_property('value'))"
   ]
  },
  {
   "cell_type": "code",
   "execution_count": 35,
   "id": "9281ceca",
   "metadata": {},
   "outputs": [],
   "source": [
    "p_btn = driver.find_element_by_id('su')\n",
    "p_btn.click()"
   ]
  },
  {
   "cell_type": "markdown",
   "id": "0a3f1faa",
   "metadata": {},
   "source": [
    "# 爬取名人名言"
   ]
  },
  {
   "cell_type": "markdown",
   "id": "32485b68",
   "metadata": {},
   "source": [
    "## 爬取一页"
   ]
  },
  {
   "cell_type": "code",
   "execution_count": 6,
   "id": "95a3f9a2",
   "metadata": {},
   "outputs": [
    {
     "name": "stdout",
     "output_type": "stream",
     "text": [
      "10\n",
      "['“The world as we have created it is a process of our thinking. It cannot be changed without changing our thinking.”', 'Albert Einstein']\n",
      "['“It is our choices, Harry, that show what we truly are, far more than our abilities.”', 'J.K. Rowling']\n",
      "['“There are only two ways to live your life. One is as though nothing is a miracle. The other is as though everything is a miracle.”', 'Albert Einstein']\n",
      "['“The person, be it gentleman or lady, who has not pleasure in a good novel, must be intolerably stupid.”', 'Jane Austen']\n",
      "[\"“Imperfection is beauty, madness is genius and it's better to be absolutely ridiculous than absolutely boring.”\", 'Marilyn Monroe']\n",
      "['“Try not to become a man of success. Rather become a man of value.”', 'Albert Einstein']\n",
      "['“It is better to be hated for what you are than to be loved for what you are not.”', 'André Gide']\n",
      "[\"“I have not failed. I've just found 10,000 ways that won't work.”\", 'Thomas A. Edison']\n",
      "[\"“A woman is like a tea bag; you never know how strong it is until it's in hot water.”\", 'Eleanor Roosevelt']\n",
      "['“A day without sunshine is like, you know, night.”', 'Steve Martin']\n"
     ]
    }
   ],
   "source": [
    "import time\n",
    "import csv\n",
    "from bs4 import BeautifulSoup as bs\n",
    "from selenium import webdriver\n",
    "driver = webdriver.Edge(executable_path=r'C:\\\\Users\\\\86150\\\\Downloads\\\\edgedriver_win64\\\\msedgedriver.exe')\n",
    "driver.get('http://quotes.toscrape.com/js/')\n",
    "div_list = driver.find_elements_by_class_name('quote')\n",
    "print(len(div_list))\n",
    "for div in div_list:\n",
    "    saying = div.find_element_by_class_name('text').text\n",
    "    author = div.find_element_by_class_name('author').text\n",
    "    info = [saying, author]\n",
    "    print(info)"
   ]
  },
  {
   "cell_type": "markdown",
   "id": "3425cb6f",
   "metadata": {},
   "source": [
    "## 爬取全部10页"
   ]
  },
  {
   "cell_type": "code",
   "execution_count": 16,
   "id": "a8dce47c",
   "metadata": {},
   "outputs": [
    {
     "name": "stdout",
     "output_type": "stream",
     "text": [
      "成功爬取第1页\n",
      "成功爬取第2页\n",
      "成功爬取第3页\n",
      "成功爬取第4页\n",
      "成功爬取第5页\n",
      "成功爬取第6页\n",
      "成功爬取第7页\n",
      "成功爬取第8页\n",
      "成功爬取第9页\n",
      "成功爬取第10页\n"
     ]
    }
   ],
   "source": [
    "import time\n",
    "import csv\n",
    "from bs4 import BeautifulSoup as bs\n",
    "from selenium import webdriver\n",
    "driver = webdriver.Edge(executable_path=r'C:\\\\Users\\\\86150\\\\Downloads\\\\edgedriver_win64\\\\msedgedriver.exe')\n",
    "driver.get('http://quotes.toscrape.com/js/')\n",
    "#定义csv表头\n",
    "quote_head=['名言','作者']\n",
    "#csv文件的路径和名字\n",
    "quote_path='名人名言.csv'\n",
    "#存放内容的列表\n",
    "sayingAndAuthor=[]\n",
    "\n",
    "\n",
    "def write_csv(csv_head,csv_content,csv_path):\n",
    "    with open(csv_path, 'w', newline='',encoding='utf-8') as file:\n",
    "        fileWriter =csv.writer(file)\n",
    "        fileWriter.writerow(csv_head)\n",
    "        fileWriter.writerows(csv_content)       \n",
    "n = 10\n",
    "for i in range(0, n):\n",
    "    div_list = driver.find_elements_by_class_name('quote')\n",
    "    for div in div_list:\n",
    "        saying = div.find_element_by_class_name('text').text\n",
    "        author = div.find_element_by_class_name('author').text\n",
    "        info=[]\n",
    "        info.append(saying)\n",
    "        info.append(author)\n",
    "        sayingAndAuthor.append(info)\n",
    "        write_csv(quote_head,sayingAndAuthor,quote_path)\n",
    "    print('成功爬取第' + str(i + 1) + '页')\n",
    "    if i == n-1:\n",
    "        break\n",
    "    driver.find_elements_by_css_selector('[aria-hidden]')[-1].click()\n",
    "    time.sleep(2)\n",
    "driver.close()"
   ]
  },
  {
   "cell_type": "markdown",
   "id": "36570e8c",
   "metadata": {},
   "source": [
    "# 爬取京东书籍信息"
   ]
  },
  {
   "cell_type": "code",
   "execution_count": 42,
   "id": "7c46115b",
   "metadata": {},
   "outputs": [],
   "source": [
    "from selenium import webdriver\n",
    "from selenium.webdriver.common.keys import Keys\n",
    "import time\n",
    "from lxml import etree\n",
    "import csv\n",
    "all_book_info = []\n",
    "num=200\n",
    "head=['书名', '价格', '作者', '出版社']\n",
    "#csv文件的路径和名字\n",
    "path='java编程.csv'"
   ]
  },
  {
   "cell_type": "code",
   "execution_count": 43,
   "id": "bc1d4e24",
   "metadata": {},
   "outputs": [],
   "source": [
    "def write_csv(head,all_book_info,path):\n",
    "    with open(path, 'w', newline='',encoding='utf-8') as file:\n",
    "        fileWriter =csv.writer(file)\n",
    "        fileWriter.writerow(head)\n",
    "        fileWriter.writerows(all_book_info) "
   ]
  },
  {
   "cell_type": "code",
   "execution_count": 44,
   "id": "25429899",
   "metadata": {},
   "outputs": [],
   "source": [
    "# 爬取一页\n",
    "def get_onePage_info(web,num):\n",
    "    web.execute_script('window.scrollTo(0, document.body.scrollHeight);')\n",
    "    time.sleep(2)\n",
    "    page_text = web.page_source\n",
    "    # with open('3-.html', 'w', encoding='utf-8')as fp:\n",
    "    #     fp.write(page_text)\n",
    "    # 进行解析\n",
    "    tree = etree.HTML(page_text)\n",
    "    li_list = tree.xpath('//li[contains(@class,\"gl-item\")]')\n",
    "    for li in li_list:\n",
    "        num=num-1\n",
    "        book_infos = []\n",
    "        book_name = ''.join(li.xpath('.//div[@class=\"p-name\"]/a/em/text()'))     # 书名\n",
    "        book_infos.append(book_name)\n",
    "        price = '￥' + li.xpath('.//div[@class=\"p-price\"]/strong/i/text()')[0]   # 价格\n",
    "        book_infos.append(price)\n",
    "        author_span = li.xpath('.//span[@class=\"p-bi-name\"]/a/text()')\n",
    "        if len(author_span) > 0:  # 作者\n",
    "            author = author_span[0]\n",
    "        else:\n",
    "            author = '无'\n",
    "        book_infos.append(author)\n",
    "        store_span = li.xpath('.//span[@class=\"p-bi-store\"]/a[1]/text()')  # 出版社\n",
    "        if len(store_span) > 0:\n",
    "            store = store_span[0]\n",
    "        else:\n",
    "            store = '无'\n",
    "        book_infos.append(store)\n",
    "        all_book_info.append(book_infos)\n",
    "        if num==0:\n",
    "            break\n",
    "    return num\n"
   ]
  },
  {
   "cell_type": "code",
   "execution_count": 45,
   "id": "d3a776bc",
   "metadata": {},
   "outputs": [
    {
     "name": "stderr",
     "output_type": "stream",
     "text": [
      "C:\\Users\\86150\\Anaconda3\\lib\\site-packages\\ipykernel_launcher.py:1: DeprecationWarning: executable_path has been deprecated, please pass in a Service object\n",
      "  \"\"\"Entry point for launching an IPython kernel.\n",
      "C:\\Users\\86150\\Anaconda3\\lib\\site-packages\\ipykernel_launcher.py:4: DeprecationWarning: find_element_by_* commands are deprecated. Please use find_element() instead\n",
      "  after removing the cwd from sys.path.\n",
      "C:\\Users\\86150\\Anaconda3\\lib\\site-packages\\ipykernel_launcher.py:9: DeprecationWarning: find_element_by_* commands are deprecated. Please use find_element() instead\n",
      "  if __name__ == '__main__':\n"
     ]
    }
   ],
   "source": [
    "\n",
    "web = webdriver.Edge(executable_path=r'C:\\\\Users\\\\86150\\\\Downloads\\\\edgedriver_win64\\\\msedgedriver.exe')\n",
    "web.get('https://www.jd.com/')\n",
    "web.maximize_window() # 全屏\n",
    "web.find_element_by_id('key').send_keys('java编程', Keys.ENTER)  # 找到输入框输入，回车\n",
    "time.sleep(2)\n",
    "\n",
    "while num!=0:\n",
    "    num=get_onePage_info(web,num)\n",
    "    web.find_element_by_class_name('pn-next').click()  # 点击下一页\n",
    "    time.sleep(2)\n",
    "write_csv(head,all_book_info,path)\n",
    "web.close()\n"
   ]
  },
  {
   "cell_type": "code",
   "execution_count": null,
   "id": "48f8f674",
   "metadata": {},
   "outputs": [],
   "source": []
  }
 ],
 "metadata": {
  "kernelspec": {
   "display_name": "Python [conda env:root] *",
   "language": "python",
   "name": "conda-root-py"
  },
  "language_info": {
   "codemirror_mode": {
    "name": "ipython",
    "version": 3
   },
   "file_extension": ".py",
   "mimetype": "text/x-python",
   "name": "python",
   "nbconvert_exporter": "python",
   "pygments_lexer": "ipython3",
   "version": "3.7.11"
  }
 },
 "nbformat": 4,
 "nbformat_minor": 5
}
